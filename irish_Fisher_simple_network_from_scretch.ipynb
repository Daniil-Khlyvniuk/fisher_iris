{
  "nbformat": 4,
  "nbformat_minor": 0,
  "metadata": {
    "colab": {
      "provenance": [],
      "toc_visible": true,
      "authorship_tag": "ABX9TyPvH0n311crlKa0GX6TOgaq",
      "include_colab_link": true
    },
    "kernelspec": {
      "name": "python3",
      "display_name": "Python 3"
    },
    "language_info": {
      "name": "python"
    }
  },
  "cells": [
    {
      "cell_type": "markdown",
      "metadata": {
        "id": "view-in-github",
        "colab_type": "text"
      },
      "source": [
        "<a href=\"https://colab.research.google.com/github/Daniil-Khlyvniuk/fisher_iris/blob/main/irish_Fisher_simple_network_from_scretch.ipynb\" target=\"_parent\"><img src=\"https://colab.research.google.com/assets/colab-badge.svg\" alt=\"Open In Colab\"/></a>"
      ]
    },
    {
      "cell_type": "code",
      "execution_count": 25,
      "metadata": {
        "id": "n2cZ7gkz20sj"
      },
      "outputs": [],
      "source": [
        "import numpy as np"
      ]
    },
    {
      "cell_type": "code",
      "source": [
        "INPUT_DIM = 4\n",
        "OUTPUT_DIM = 3\n",
        "HIDDEN_DIM = 42\n",
        "CLASS_NAMES = ['Setosa', 'Versicolor', 'Verginica']"
      ],
      "metadata": {
        "id": "Ca7QF5oN4-qk"
      },
      "execution_count": 26,
      "outputs": []
    },
    {
      "cell_type": "code",
      "source": [
        "x = np.array([7.9, 3.1, 7.5, 1.8])\n",
        "\n",
        "W1 = np.array([\n",
        "    [ 0.33462099,  0.10068401,  0.20557238, -0.19043767,  0.40249301, -0.00925352,  0.00628916,  0.74784975,  0.25069956, -0.09290041 ],\n",
        "    [ 0.41689589,  0.93211640, -0.32300143, -0.13845456,  0.58598293, -0.29140373, -0.28473491,  0.48021000, -0.32318306, -0.34146461 ],\n",
        "    [-0.21927019, -0.76135162, -0.11721704,  0.92123373,  0.19501658,  0.00904006,  1.03040632, -0.66867859, -0.01571104, -0.08372566 ],\n",
        "    [-0.67791724,  0.07044558, -0.40981071,  0.62098450, -0.33009159, -0.47352435,  0.09687051, -0.68724299,  0.43823402, -0.26574543 ]\n",
        "  ])\n",
        "\n",
        "b1 =  np.array([-0.34133575, -0.24401602, -0.06262318, -0.30410971, -0.37097632,  0.02670964, -0.51851308,  0.54665141,  0.20777536, -0.29905165 ])\n",
        "\n",
        "W2 = np.array([\n",
        "    [ 0.41186367,  0.15406952, -0.47391773 ],\n",
        "    [ 0.79701137, -0.64672799, -0.06339983 ],\n",
        "    [-0.20137522, -0.07088810,  0.00212071 ],\n",
        "    [-0.58743081, -0.17363843,  0.93769169 ],\n",
        "    [ 0.33262125,  0.18999841, -0.14977653 ],\n",
        "    [ 0.04450406,  0.26168097,  0.10104333 ],\n",
        "    [-0.74384144,  0.33092591,  0.65464737 ],\n",
        "    [ 0.45764631,  0.48877246, -1.16928700 ],\n",
        "    [-0.16020630, -0.12369116,  0.14171301 ],\n",
        "    [ 0.26099978,  0.12834471,  0.20866959 ]\n",
        "    ])\n",
        "\n",
        "b2 =  np.array([-0.16286677,  0.06680119, -0.03563594 ])\n"
      ],
      "metadata": {
        "id": "uCUn6Uvm5UdG"
      },
      "execution_count": 27,
      "outputs": []
    },
    {
      "cell_type": "code",
      "source": [
        "def ReLu(tenser):\n",
        "  return np.maximum(tenser, 0)"
      ],
      "metadata": {
        "id": "c2zj2gHS29vM"
      },
      "execution_count": 28,
      "outputs": []
    },
    {
      "cell_type": "code",
      "source": [
        "def softmax(tenser):\n",
        "  out = np.exp(tenser)\n",
        "\n",
        "  return out / np.sum(out)"
      ],
      "metadata": {
        "id": "O6iJ8W1J5woN"
      },
      "execution_count": 29,
      "outputs": []
    },
    {
      "cell_type": "code",
      "source": [
        "def predict(x):\n",
        "  tenser_1 = x @ W1 + b1\n",
        "  h1 = ReLu(tenser_1)\n",
        "  tenser_2 = h1 @ W2 + b2\n",
        "  z = softmax(tenser_2)\n",
        "\n",
        "  return z\n"
      ],
      "metadata": {
        "id": "57dyFPQr6eXT"
      },
      "execution_count": 30,
      "outputs": []
    },
    {
      "cell_type": "code",
      "source": [
        "probs = predict(x)\n",
        "pred_class = np.argmax(probs)\n",
        "\n",
        "print('Result: ' + CLASS_NAMES[pred_class])\n"
      ],
      "metadata": {
        "colab": {
          "base_uri": "https://localhost:8080/"
        },
        "id": "6efIAhp_6wRG",
        "outputId": "a4ca91db-cfa6-42ae-d8c7-a9871284d5e7"
      },
      "execution_count": 31,
      "outputs": [
        {
          "output_type": "stream",
          "name": "stdout",
          "text": [
            "Result: Verginica\n"
          ]
        }
      ]
    }
  ]
}